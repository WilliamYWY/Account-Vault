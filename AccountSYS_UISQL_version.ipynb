{
 "cells": [
  {
   "cell_type": "code",
   "execution_count": 284,
   "id": "81fde046",
   "metadata": {},
   "outputs": [],
   "source": [
    "import pymysql.cursors\n",
    "from cryptography.fernet import Fernet\n",
    "import secrets\n",
    "import string\n",
    "from getpass import getpass\n",
    "import sys\n",
    "import pyperclip\n",
    "import tkinter as tk\n",
    "from tkinter import messagebox"
   ]
  },
  {
   "cell_type": "markdown",
   "id": "065361b7",
   "metadata": {},
   "source": [
    "# Database Connection"
   ]
  },
  {
   "cell_type": "code",
   "execution_count": 94,
   "id": "8db814eb",
   "metadata": {},
   "outputs": [],
   "source": [
    "connect_info = {\n",
    "    'host':'127.0.0.1',\n",
    "    'port':3306,\n",
    "    'user':'root',\n",
    "    'password':'890521Willy',\n",
    "    'db':'Account'\n",
    "}\n",
    "\n",
    "connection = pymysql.connect(**connect_info)\n",
    "cursor = connection.cursor()"
   ]
  },
  {
   "cell_type": "markdown",
   "id": "cb58ee43",
   "metadata": {},
   "source": [
    "# Golden KEY"
   ]
  },
  {
   "cell_type": "code",
   "execution_count": 95,
   "id": "dd0ef159",
   "metadata": {},
   "outputs": [],
   "source": [
    "with open('GoldenKEY.txt') as GoldenFile:\n",
    "    KEY = GoldenFile.read()\n",
    "    \n",
    "CodeKEY = Fernet(KEY)"
   ]
  },
  {
   "cell_type": "markdown",
   "id": "f077f5fd",
   "metadata": {},
   "source": [
    "# View generate\n",
    "\n",
    "service_code 操作選擇  \n",
    "type_code 分類選擇  "
   ]
  },
  {
   "cell_type": "code",
   "execution_count": 293,
   "id": "48434a99",
   "metadata": {},
   "outputs": [],
   "source": [
    "class main_control(tk.Tk):\n",
    "    \n",
    "    def __init__(self):\n",
    "        tk.Tk.__init__(self)\n",
    "        self.title(\"Account Vault\")\n",
    "        self.geometry(\"400x600\")\n",
    "        self._frame = None\n",
    "        self.switch_frame(main_menu)\n",
    "\n",
    "    def switch_frame(self, frame_class, **kwagrs):\n",
    "        new_frame = frame_class(self, kwagrs)\n",
    "        if self._frame is not None:\n",
    "            self._frame.destroy()\n",
    "        self._frame = new_frame\n",
    "        self._frame.pack()\n",
    "        \n",
    "        "
   ]
  },
  {
   "cell_type": "code",
   "execution_count": 294,
   "id": "0ba6afc4",
   "metadata": {},
   "outputs": [],
   "source": [
    "class login_page(tk.Frame):\n",
    "    \n",
    "    def __init__(self, controler, kwargs):\n",
    "        tk.Frame.__init__(self, controler)\n",
    "        self.controler = controler\n",
    "        tk.Label(self, text=\"Welcome to Account Vault\", font=(\"Times\",20)).pack(side=\"top\")\n",
    "        tk.Label(self, text=\"Please Enter Password\", font=(\"Times\",20)).pack(side=\"top\")\n",
    "        self.password = tk.Entry(self,show=\"*\")\n",
    "        self.password.pack()\n",
    "        tk.Button(self, text=\"Login\", command=self.validate).pack()\n",
    "    \n",
    "    def validate(self):\n",
    "        password = self.password.get()\n",
    "        #get ultimate password\n",
    "        demand = \"SELECT Password FROM Account_info WHERE Institution = 'Ultimate'\"\n",
    "        cursor.execute(demand)\n",
    "        result = cursor.fetchone()[0]\n",
    "        decrypted = CodeKEY.decrypt(result.encode())\n",
    "        \n",
    "        if password == decrypted.decode():\n",
    "            self.controler.switch_frame(main_menu)"
   ]
  },
  {
   "cell_type": "code",
   "execution_count": 295,
   "id": "c7848752",
   "metadata": {},
   "outputs": [],
   "source": [
    "class main_menu(tk.Frame):\n",
    "    \n",
    "    def __init__(self, controler, kwargs):\n",
    "        tk.Frame.__init__(self, controler)\n",
    "        self.controler = controler\n",
    "        tk.Label(self, text=\"Welcome Back Master\", font=(\"Times\",15)).pack(side=\"top\")\n",
    "        tk.Label(self, text=\"What are you looking for today?\", font=(\"Times\",20)).pack(side=\"top\")\n",
    "        tk.Button(self, text=\"Get Account\", command=lambda: self.service_change(\"1\"), height=5, width=20).pack()\n",
    "        tk.Button(self, text=\"Add Account\", command=lambda: self.service_change(\"2\"), height=5, width=20).pack()\n",
    "        tk.Button(self, text=\"Update Account\", command=lambda: self.service_change(\"3\"),height=5, width=20).pack()\n",
    "        #tk.Button(self, text=\"Exit\", command=lambda: self.service_change(\"4\"),height=5, width=20).pack()\n",
    "    def service_change(self, service_code):\n",
    "        self.controler.switch_frame(get_type, service_code=service_code)"
   ]
  },
  {
   "cell_type": "code",
   "execution_count": 296,
   "id": "161dbec4",
   "metadata": {},
   "outputs": [],
   "source": [
    "class get_type(tk.Frame):\n",
    "    def __init__(self, controler, kwargs):\n",
    "        tk.Frame.__init__(self, controler)\n",
    "        self.controler = controler\n",
    "        tk.Label(self, text=\"Get Account\", font=(\"Times\",20)).pack(side=\"top\")\n",
    "        tk.Label(self, text=\"What Type of Account Are You Looking For?\", font=(\"Times\",15)).pack(side=\"top\")\n",
    "        \n",
    "        tk.Button(self, text=\"GAME\", height=5, width=20, command=lambda: self.type_change(\"1\", kwargs[\"service_code\"])).pack()\n",
    "        tk.Button(self, text=\"SHOP\", height=5, width=20, command=lambda: self.type_change(\"2\", kwargs[\"service_code\"])).pack()\n",
    "        tk.Button(self, text=\"WORK\", height=5, width=20, command=lambda: self.type_change(\"3\", kwargs[\"service_code\"])).pack()\n",
    "        tk.Button(self, text=\"STUDY\", height=5, width=20, command=lambda: self.type_change(\"4\", kwargs[\"service_code\"])).pack()\n",
    "        \n",
    "    def type_change(self, type_code, service_code):\n",
    "        if service_code == \"1\":\n",
    "            self.controler.switch_frame(get_account_serive, type_code=type_code ,service_code=service_code)\n",
    "        \n",
    "class get_account_serive(tk.Frame):\n",
    "    def __init__(self, controler, kwargs):\n",
    "        tk.Frame.__init__(self, controler)\n",
    "        self.controler = controler\n",
    "        if kwargs['type_code'] == \"1\":\n",
    "            tk.Label(self, text=\"GAME\", font=(\"Times\",20)).grid(row=0,column=0)\n",
    "        elif kwargs['type_code'] == \"2\":\n",
    "            tk.Label(self, text=\"SHOP\", font=(\"Times\",20)).grid(row=0,column=0)\n",
    "        elif kwargs['type_code'] == \"3\":\n",
    "            tk.Label(self, text=\"WORK\", font=(\"Times\",20)).grid(row=0,column=0)\n",
    "        elif kwargs['type_code'] == \"4\":\n",
    "            tk.Label(self, text=\"STUDY\", font=(\"Times\",20)).grid(row=0,column=0)\n",
    "            \n",
    "        tk.Label(self, text=\"Institutions in This Category\", font=(\"Times\",15)).grid(row=1,column=0)\n",
    "        #organize frame for button\n",
    "        institution_frame = tk.Frame(self)\n",
    "        institution_frame.grid(row=3,column=0)\n",
    "        # get insitutions\n",
    "        demand = f\"SELECT Institution FROM Account_info WHERE Category = {kwargs['type_code']}\"\n",
    "        cursor.execute(demand)\n",
    "        result = cursor.fetchall()\n",
    "        #organize button 10 in one column\n",
    "        row=0\n",
    "        column=0\n",
    "        for item in result:\n",
    "            tk.Button(institution_frame, text=item[0], height=2, width=15, \n",
    "                      command=lambda item=item: self.show_account(item[0],kwargs['type_code'])).grid(row=row,column=column)\n",
    "            row+=1\n",
    "            if row % 10 ==0:\n",
    "                column+=1\n",
    "                row = 0\n",
    "        tk.Button(self, text=\"Back to Last Page\", height=2, width=15, \n",
    "                  command=lambda: self.controler.switch_frame(get_type, service_code=\"1\")).grid(row=4, column=0)  \n",
    "        \n",
    "    def show_account(self, institution, type_code):\n",
    "        self.controler.switch_frame(show_all_account, ins=institution, type_code=type_code)"
   ]
  },
  {
   "cell_type": "code",
   "execution_count": 305,
   "id": "337dcb6b",
   "metadata": {},
   "outputs": [],
   "source": [
    "class show_all_account(tk.Frame):\n",
    "    def __init__(self, controler, kwargs):\n",
    "        tk.Frame.__init__(self, controler)\n",
    "        self.controler = controler\n",
    "        institution = kwargs['ins']\n",
    "        tk.Label(self, text=f\"Account in {institution}\", font=(\"Times\",20)).grid(row=0,column=0)\n",
    "        #organize button frame\n",
    "        account_frame = tk.Frame(self)\n",
    "        account_frame.grid(row=1,column=0)\n",
    "        #get all account\n",
    "        institution = \"'\" + institution + \"'\"\n",
    "        demand = f'SELECT Account FROM Account_info WHERE Institution = {institution}'\n",
    "        cursor.execute(demand)\n",
    "        result = cursor.fetchall()\n",
    "        #organize button\n",
    "        row=0\n",
    "        column=0\n",
    "        for item in result:\n",
    "            tk.Button(account_frame, text=item[0], height=2, width=15, \n",
    "                      command=lambda account=item[0], institution=institution: self.get_info(account,institution)).grid(row=row,column=column)\n",
    "            row+=1\n",
    "            if row % 10 ==0:\n",
    "                column+=1\n",
    "                row = 0\n",
    "        tk.Button(self, text=\"Back to Last Page\", height=2, width=15, \n",
    "                  command=lambda: self.controler.switch_frame(get_account_serive, type_code=kwargs[\"type_code\"])).grid(row=4, column=0)\n",
    "    def get_info(self, account, institution):\n",
    "        account = \"'\" + account + \"'\"\n",
    "        demand = f'SELECT Account, Password FROM Account_info WHERE Account = {account} AND Institution = {institution}'\n",
    "        cursor.execute(demand)\n",
    "        result = cursor.fetchone()\n",
    "        password = CodeKEY.decrypt(result[1].encode()).decode()\n",
    "        \n",
    "        messagebox.showinfo(\"Account Info\", f\"Account: {result[0]}\\nPassword: {password}\")"
   ]
  },
  {
   "cell_type": "code",
   "execution_count": 306,
   "id": "1a9993a1",
   "metadata": {},
   "outputs": [],
   "source": [
    "class add_account(tk.Frame):\n",
    "    def __init__(self, controler):\n",
    "        tk.Frame.__init__(self, controler)\n",
    "        self.controler = controler\n",
    "        tk.Label(self, text=\"Add Account\", font=(\"Times\",15)).pack(side=\"top\")"
   ]
  },
  {
   "cell_type": "code",
   "execution_count": 307,
   "id": "cbaa12ee",
   "metadata": {},
   "outputs": [],
   "source": [
    "class update_account(tk.Frame):\n",
    "    def __init__(self, controler):\n",
    "        tk.Frame.__init__(self, controler)\n",
    "        self.controler = controler\n",
    "        tk.Label(self, text=\"Update Account\", font=(\"Times\",15)).pack(side=\"top\")"
   ]
  },
  {
   "cell_type": "code",
   "execution_count": 308,
   "id": "77dbc96c",
   "metadata": {},
   "outputs": [],
   "source": [
    "app = main_control()\n",
    "app.mainloop()"
   ]
  },
  {
   "cell_type": "code",
   "execution_count": null,
   "id": "b74790a0",
   "metadata": {},
   "outputs": [],
   "source": []
  }
 ],
 "metadata": {
  "kernelspec": {
   "display_name": "Python 3",
   "language": "python",
   "name": "python3"
  },
  "language_info": {
   "codemirror_mode": {
    "name": "ipython",
    "version": 3
   },
   "file_extension": ".py",
   "mimetype": "text/x-python",
   "name": "python",
   "nbconvert_exporter": "python",
   "pygments_lexer": "ipython3",
   "version": "3.7.6"
  },
  "toc": {
   "base_numbering": 1,
   "nav_menu": {},
   "number_sections": true,
   "sideBar": true,
   "skip_h1_title": false,
   "title_cell": "Table of Contents",
   "title_sidebar": "Contents",
   "toc_cell": false,
   "toc_position": {},
   "toc_section_display": true,
   "toc_window_display": false
  }
 },
 "nbformat": 4,
 "nbformat_minor": 5
}
